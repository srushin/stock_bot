{
 "cells": [
  {
   "cell_type": "code",
   "execution_count": 1,
   "id": "2ba4d76d",
   "metadata": {},
   "outputs": [],
   "source": [
    "#Importing Dash and pandas for Dashboard\n",
    "import dash\n",
    "import dash_core_components as dcc\n",
    "import dash_html_components as html\n",
    "from dash.dependencies import Output, Input\n",
    "import plotly.express as px\n",
    "from jupyter_dash import JupyterDash\n",
    "import dash_bootstrap_components as dbc\n",
    "import pandas as pd\n",
    "import pandas_datareader.data as web\n",
    "import datetime"
   ]
  },
  {
   "cell_type": "code",
   "execution_count": 26,
   "id": "c6cbf285",
   "metadata": {},
   "outputs": [
    {
     "name": "stdout",
     "output_type": "stream",
     "text": [
      "Attributes       Date Symbols   Close      High       Low      Open    Volume\n",
      "0          2021-06-30    AAPL  136.96  137.4100  135.8700  136.1700  63261393\n",
      "1          2021-06-30     GME  214.14  215.2787  206.9379  209.6900   2539648\n",
      "2          2021-06-30     AMC   56.68   58.1800   54.6500   56.0000  59020626\n",
      "3          2021-06-30    CLNE   10.15   10.3499    9.9500   10.2901  12858058\n",
      "4          2021-06-30    CLOV   13.32   14.1700   13.1700   13.6000  34028169\n",
      "5          2021-06-30    TSLA  679.70  692.8100  678.1400  679.7700  18924862\n",
      "6          2021-06-29    AAPL  136.33  136.4900  134.3500  134.8000  64556081\n",
      "7          2021-06-29     GME  210.88  215.2200  208.0100  213.5900   2480009\n",
      "8          2021-06-29     AMC   56.43   61.0000   56.1800   59.0400  63604135\n",
      "9          2021-06-29    CLNE   10.31   11.1000   10.2330   10.8200  16425943\n",
      "10         2021-06-29    CLOV   13.36   14.4400   12.5400   12.7100  73090601\n",
      "11         2021-06-29    TSLA  680.76  687.5099  675.8900  684.6500  17381313\n",
      "12         2021-06-28    AAPL  134.78  135.2450  133.3500  133.4100  62111303\n",
      "13         2021-06-28     GME  213.25  224.4500  210.2000  211.2500   4879364\n",
      "14         2021-06-28     AMC   58.11   59.3600   54.3300   55.1000  99310240\n"
     ]
    }
   ],
   "source": [
    "# Building Sample dashboard layout using Dash app on Python \n",
    "# Importing data using padas built in data reader and Stooq data (this will be eventually be modified to have user query)\n",
    "start = datetime.datetime(2021, 1, 1)\n",
    "end = datetime.datetime(2021, 6, 30)\n",
    "df = web.DataReader(['AAPL','GME','AMC','CLNE','CLOV','TSLA'],\n",
    "                    'stooq', start=start, end=end)\n",
    "\n",
    "df = df.stack().reset_index()\n",
    "df.rename(columns={'level_0': 'Date'})\n",
    "print(df[:15])\n",
    "#df.head(15)"
   ]
  },
  {
   "cell_type": "code",
   "execution_count": 48,
   "id": "a262fbe6",
   "metadata": {},
   "outputs": [
    {
     "name": "stdout",
     "output_type": "stream",
     "text": [
      "Dash app running on http://127.0.0.1:8050/\n"
     ]
    }
   ],
   "source": [
    "# Calls Dash app using Jupyter notebook and sets the themme using bootstrap dark\n",
    "app = JupyterDash(__name__,external_stylesheets=[dbc.themes.DARKLY],\n",
    "                  meta_tags=[{'name': 'viewport',\n",
    "                            'content': 'width=device-width, initial-scale=1.0'}])\n",
    "\n",
    "\n",
    "# Defines the overall layout of the dashboard using dash and htmlcode. \n",
    "# Dash components contain graphs and menus from plotly \n",
    "app.layout = html.Div([\n",
    "    #Set Title of the dashboard\n",
    "    html.H1(\"WallStreetBets Dashboard\",className='text-center text-primary mb-4'),\n",
    "    \n",
    "    #Added drop down menus for closing price graph and volume graphs\n",
    "    html.Div([\n",
    "        html.Div([\n",
    "            dcc.Dropdown(id='my-dpdn', multi=False, value='GME',style={'color': 'black'},\n",
    "                         options=[{'label':x, 'value':x}\n",
    "                                  for x in sorted(df['Symbols'].unique())],\n",
    "                         ),\n",
    "            dcc.Graph(id='line-fig', figure={})]),\n",
    "        \n",
    "        html.Div([\n",
    "            dcc.Dropdown(id='my-dpdn2', multi=True, value=['GME','TSLA'],style={'color': 'black'},\n",
    "                         options=[{'label':x, 'value':x}\n",
    "                                  for x in sorted(df['Symbols'].unique())],\n",
    "                         ),\n",
    "            dcc.Graph(id='line-fig2', figure={})])          \n",
    "    ],),\n",
    "      \n",
    "           \n",
    "    #Embedded tableau dashboard for machine learning components \n",
    "    html.Iframe(src=\"https://public.tableau.com/app/profile/lisette.worster/viz/SentimentAnalysis_16252430553980/Storyboard\",\n",
    "                style={\"height\": \"1067px\", \"width\": \"100%\"})\n",
    "])\n",
    "\n",
    "\n",
    "\n",
    "# Callback section: connecting the components\n",
    "# ************************************************************************\n",
    "# Line chart - Single\n",
    "@app.callback(\n",
    "    Output('line-fig', 'figure'),\n",
    "    Input('my-dpdn', 'value')\n",
    ")\n",
    "def update_graph(stock_slctd):\n",
    "    dff = df[df['Symbols']==stock_slctd]\n",
    "    figln = px.line(dff, x='Date', y='Close',\n",
    "                    \n",
    "                    \n",
    "                    \n",
    "                    template='plotly_dark').update_layout(\n",
    "                                            {'plot_bgcolor': 'rgba(0, 0, 0, 0)',\n",
    "                                                'paper_bgcolor': 'rgba(0, 0, 0, 0)'})\n",
    "    return figln\n",
    "\n",
    "\n",
    "# Line chart - multiple\n",
    "@app.callback(\n",
    "    Output('line-fig2', 'figure'),\n",
    "    Input('my-dpdn2', 'value')\n",
    ")\n",
    "def update_graph(stock_slctd):\n",
    "    dff = df[df['Symbols'].isin(stock_slctd)]\n",
    "    figln2 = px.line(dff, x='Date', y='Volume', color='Symbols',\n",
    "                     \n",
    "                     \n",
    "                     \n",
    "                     template='plotly_dark').update_layout(\n",
    "                                            {'plot_bgcolor': 'rgba(0, 0, 0, 0)',\n",
    "                                                'paper_bgcolor': 'rgba(0, 0, 0, 0)'})\n",
    "    return figln2\n",
    "#Runs dashboard through Jupyter notebook and opens it in another window\n",
    "app.run_server(mode='external')"
   ]
  },
  {
   "cell_type": "code",
   "execution_count": 46,
   "id": "123adebe",
   "metadata": {},
   "outputs": [],
   "source": [
    "#Terminates activity on port\n",
    "app._terminate_server_for_port(\"localhost\", 8050)"
   ]
  },
  {
   "cell_type": "code",
   "execution_count": null,
   "id": "d884b8d5",
   "metadata": {},
   "outputs": [],
   "source": [
    "# Running another form of ML Section "
   ]
  },
  {
   "cell_type": "code",
   "execution_count": 47,
   "id": "aacb8806",
   "metadata": {},
   "outputs": [
    {
     "name": "stdout",
     "output_type": "stream",
     "text": [
      "<class 'pandas.core.frame.DataFrame'>\n",
      "RangeIndex: 50070 entries, 0 to 50069\n",
      "Data columns (total 8 columns):\n",
      " #   Column     Non-Null Count  Dtype  \n",
      "---  ------     --------------  -----  \n",
      " 0   title      50070 non-null  object \n",
      " 1   score      50070 non-null  int64  \n",
      " 2   id         50070 non-null  object \n",
      " 3   url        50070 non-null  object \n",
      " 4   comms_num  50070 non-null  int64  \n",
      " 5   created    50070 non-null  float64\n",
      " 6   body       23295 non-null  object \n",
      " 7   timestamp  50070 non-null  object \n",
      "dtypes: float64(1), int64(2), object(5)\n",
      "memory usage: 3.1+ MB\n"
     ]
    }
   ],
   "source": [
    "wallbets_df = pd.read_csv('reddit_wsb.csv')\n",
    "wallbets_df.head()\n",
    "wallbets_df.info()\n"
   ]
  },
  {
   "cell_type": "code",
   "execution_count": null,
   "id": "ec734972",
   "metadata": {},
   "outputs": [],
   "source": []
  }
 ],
 "metadata": {
  "kernelspec": {
   "display_name": "mlenv",
   "language": "python",
   "name": "mlenv"
  },
  "language_info": {
   "codemirror_mode": {
    "name": "ipython",
    "version": 3
   },
   "file_extension": ".py",
   "mimetype": "text/x-python",
   "name": "python",
   "nbconvert_exporter": "python",
   "pygments_lexer": "ipython3",
   "version": "3.7.10"
  }
 },
 "nbformat": 4,
 "nbformat_minor": 5
}
